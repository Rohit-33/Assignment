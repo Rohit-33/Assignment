{
 "cells": [
  {
   "cell_type": "markdown",
   "id": "8a766092",
   "metadata": {},
   "source": [
    "1. \n",
    "True and False are the two values of boolean datatype.\n",
    "    We can write them by True or False"
   ]
  },
  {
   "cell_type": "markdown",
   "id": "007baa69",
   "metadata": {},
   "source": [
    "2.\n",
    "AND , OR , NOT  "
   ]
  },
  {
   "cell_type": "markdown",
   "id": "c32c6a56",
   "metadata": {},
   "source": [
    "3<table>\n",
    "  <thead>\n",
    "    <tr>\n",
    "      <th>AND TABLE</th>\n",
    "    </tr>\n",
    "  </thead>\n",
    "  <tbody>\n",
    "    <tr>\n",
    "      <td>False</td>\n",
    "      <td>False</td>\n",
    "      <td>False</td>\n",
    "    </tr>\n",
    "    <tr>\n",
    "      <td>False</td>\n",
    "      <td>True</td>\n",
    "      <td>False</td>\n",
    "    </tr>\n",
    "    <tr>\n",
    "      <td>True</td>\n",
    "      <td>False</td>\n",
    "      <td>False</td>\n",
    "    </tr>\n",
    "    <tr>\n",
    "      <td>True</td>\n",
    "      <td>True</td>\n",
    "      <td>True</td>\n",
    "    </tr>\n",
    "  </tbody>\n",
    "</table>\n",
    "<table>\n",
    "  <thead>\n",
    "    <tr>\n",
    "      <th>NOT TABLE</th>\n",
    "    </tr>\n",
    "  </thead>\n",
    "  <tbody>\n",
    "    <tr>\n",
    "      <td>True</td>\n",
    "      <td>False</td>        \n",
    "    </tr>\n",
    "    <tr>\n",
    "      <td>False</td>\n",
    "      <td>True</td>\n",
    "    </tr>\n",
    "</table>\n",
    "<table>\n",
    "  <thead>\n",
    "    <tr>\n",
    "      <th>OR TABLE</th>\n",
    "    </tr>\n",
    "  </thead>\n",
    "  <tbody>\n",
    "    <tr>\n",
    "      <td>False</td>\n",
    "      <td>False</td>\n",
    "      <td>False</td>\n",
    "    </tr>\n",
    "    <tr>\n",
    "      <td>False</td>\n",
    "      <td>True</td>\n",
    "      <td>True</td>\n",
    "    </tr>\n",
    "    <tr>\n",
    "      <td>True</td>\n",
    "      <td>False</td>\n",
    "      <td>True</td>\n",
    "    </tr>\n",
    "    <tr>\n",
    "      <td>True</td>\n",
    "      <td>True</td>\n",
    "      <td>True</td>\n",
    "    </tr>\n",
    "  </tbody>\n",
    "</table>"
   ]
  },
  {
   "cell_type": "markdown",
   "id": "eb21fd93",
   "metadata": {},
   "source": [
    "4.\n",
    "- (5 &gt; 4) and (3 == 5) = False\n",
    "- not (5 &gt; 4) = False\n",
    "- (5 &gt; 4) or (3 == 5) = True\n",
    "- not ((5 &gt; 4) or (3 == 5)) = False\n",
    "- (True and True) and (True == False) = False\n",
    "- (not False) or (not True) = True"
   ]
  },
  {
   "cell_type": "markdown",
   "id": "b1ef619c",
   "metadata": {},
   "source": [
    "5\n",
    "- Python Less Than (<) Operator. ...\n",
    "- Python Greater Than (>) Operator. ...\n",
    "- Less Than or Equal To (<=) Operator. ...\n",
    "- Equal To or Greater Than – Python (>=) Operator. ...\n",
    "- Python Equal To (==) Operator. ...\n",
    "- Python Not Equal Operator (!=)"
   ]
  },
  {
   "cell_type": "markdown",
   "id": "aced3c9a",
   "metadata": {},
   "source": [
    "6 \n",
    "- The \"=\"(assignment operator) is used to assign the right side of the value to the left side variabe.\n",
    "The \"==\" (equal to operator) is used to type check of both left and right side variable .\n",
    "\n",
    "- Like during the loop condition we can used to equal to operator and we can assign operator to assign the value of arithmetic statement to variable"
   ]
  },
  {
   "cell_type": "markdown",
   "id": "56a08524",
   "metadata": {},
   "source": [
    "7. \n",
    "- ham\n",
    "- spam\n",
    "- spam"
   ]
  },
  {
   "cell_type": "markdown",
   "id": "7f01d71c",
   "metadata": {},
   "source": [
    "8.\n",
    "<br>&emsp;if spam == 1:<br>\n",
    "&emsp;&emsp;print(\"Hello\")<br>\n",
    "&emsp;elif spam == 2:<br>\n",
    "&emsp;&emsp;print(\"Howdy\")<br>\n",
    "&emsp;else:<br>\n",
    "&emsp;&emsp;print(\"Grretings!\")"
   ]
  },
  {
   "cell_type": "markdown",
   "id": "0bb684be",
   "metadata": {},
   "source": [
    "9.CTRL + C"
   ]
  },
  {
   "cell_type": "markdown",
   "id": "5623bce1",
   "metadata": {},
   "source": [
    "10.\n",
    "- break:- If we use this keyword in the loop then the control will get out of current loop\n",
    "- continious:- If we use this then the current loop will run again and immeditely control will go to the start condition of loop"
   ]
  },
  {
   "cell_type": "markdown",
   "id": "f643ad7a",
   "metadata": {},
   "source": [
    "11.\n",
    "- range(10) :- It gives iterator object from 0 - 9 with increment of 1 step in which start value is 0(automatically) end is 10 and step is 1(automatically)\n",
    "- range(0,10,1) :- It gives iterator object from 0 - 9 with increment of 1 step in which start = 0 , end = 9 , step = 1(automatically).\n",
    "- range(0,10,1) :- It gives iterator object from 0 - 9 with increment of 1 step in which start = 0 , end = 9 , step = 1.    "
   ]
  },
  {
   "cell_type": "markdown",
   "id": "e60fd27e",
   "metadata": {},
   "source": [
    "12\n",
    "- using for loop\n",
    "<br>\n",
    "<code>\n",
    "for i in range(1 , 11):\n",
    "    print(i)\n",
    "</code>\n",
    "<br>\n",
    "- using while loop\n",
    "<code>\n",
    "i = 1\n",
    "while(i <= 11):\n",
    "    print(i)\n",
    "    i += 1\n",
    "</code>\n",
    "<br>"
   ]
  },
  {
   "cell_type": "markdown",
   "id": "e97b0513",
   "metadata": {},
   "source": [
    "13 spam.bacon()"
   ]
  }
 ],
 "metadata": {
  "kernelspec": {
   "display_name": "Python 3 (ipykernel)",
   "language": "python",
   "name": "python3"
  },
  "language_info": {
   "codemirror_mode": {
    "name": "ipython",
    "version": 3
   },
   "file_extension": ".py",
   "mimetype": "text/x-python",
   "name": "python",
   "nbconvert_exporter": "python",
   "pygments_lexer": "ipython3",
   "version": "3.8.8"
  }
 },
 "nbformat": 4,
 "nbformat_minor": 5
}
