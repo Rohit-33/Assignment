{
 "cells": [
  {
   "cell_type": "markdown",
   "id": "09317245",
   "metadata": {},
   "source": [
    "1\n",
    "\n",
    "- dict_name = dict()\n",
    "- dict_name = {}"
   ]
  },
  {
   "cell_type": "markdown",
   "id": "71519fc0",
   "metadata": {},
   "source": [
    "2\n",
    "\n",
    "It's value is 42"
   ]
  },
  {
   "cell_type": "markdown",
   "id": "939b5d7d",
   "metadata": {},
   "source": [
    "3\n",
    "- list :- It is collection of index and value pair like array in C or C++ .\n",
    "- dict :- It is collection of key and value pair"
   ]
  },
  {
   "cell_type": "markdown",
   "id": "3ca530b7",
   "metadata": {},
   "source": [
    "4\n",
    "\n",
    "- It will give `KeyError: 'bar'`"
   ]
  },
  {
   "cell_type": "markdown",
   "id": "8ae54a37",
   "metadata": {},
   "source": [
    "5\n",
    "\n",
    "Both will find if there is any key name as `'cat'`"
   ]
  },
  {
   "cell_type": "markdown",
   "id": "033b81ae",
   "metadata": {},
   "source": [
    "6\n",
    "\n",
    "'cat' in spam checks whether there is a 'cat' key in the dictionary, while 'cat' in spam.values() checks whether there is a value 'cat' for one of the keys in spam."
   ]
  },
  {
   "cell_type": "markdown",
   "id": "8ade5d8a",
   "metadata": {},
   "source": [
    "7\n",
    "\n",
    "`spam.update({'color':'black'})`"
   ]
  },
  {
   "cell_type": "markdown",
   "id": "c68c5257",
   "metadata": {},
   "source": [
    "8\n",
    "\n",
    "- By importing pprint print dict object using pprint function \n",
    "eg.,\n",
    "\n",
    "- Input\n",
    "<code>\n",
    "import pprint\n",
    "sample_dict = {'name': 'Nik', 'age': 31, 'gender': 'male', 'books': ['Harry Potter', 'Lord of the Rings']}\n",
    "pprint.pprint(sample_dict)\n",
    "</code>\n",
    "\n",
    "- Output\n",
    "<code>\n",
    "Returns:\n",
    "{'name': 'Nik',\n",
    " 'age': 31,\n",
    " 'books': ['Harry Potter', 'Lord of the Rings'],\n",
    "'gender': 'male'}\n",
    "</code>"
   ]
  },
  {
   "cell_type": "code",
   "execution_count": null,
   "id": "06239e88",
   "metadata": {},
   "outputs": [],
   "source": []
  }
 ],
 "metadata": {
  "kernelspec": {
   "display_name": "Python 3 (ipykernel)",
   "language": "python",
   "name": "python3"
  },
  "language_info": {
   "codemirror_mode": {
    "name": "ipython",
    "version": 3
   },
   "file_extension": ".py",
   "mimetype": "text/x-python",
   "name": "python",
   "nbconvert_exporter": "python",
   "pygments_lexer": "ipython3",
   "version": "3.8.8"
  }
 },
 "nbformat": 4,
 "nbformat_minor": 5
}
