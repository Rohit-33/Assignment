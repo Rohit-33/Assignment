{
 "cells": [
  {
   "cell_type": "markdown",
   "id": "a43ca0a5",
   "metadata": {},
   "source": [
    "1\n",
    "\n",
    "`1km = 0.6214miles`\n",
    "\n",
    "<code>\n",
    "<b>\n",
    "def km_miles(n):\n",
    "    return n*0.6214\n",
    "\n",
    "n = int(input(\"Enter the km: \"))\n",
    "print(km_miles(n))\n",
    "</b>\n",
    "</code>"
   ]
  },
  {
   "cell_type": "markdown",
   "id": "b859da90",
   "metadata": {},
   "source": [
    "2\n",
    "\n",
    "`f = (1.8)*(c) + 32`\n",
    "\n",
    "<b>\n",
    "<code>\n",
    "def celcius_to_fahrenheit(c):\n",
    "    return (1.8*c) + 32\n",
    "    \n",
    "n = int(input(\"Enter the celcius\"))\n",
    "    \n",
    "print(\"Fahrenheit is\" , celcius_to_fahrenheit(n))\n",
    "</code>"
   ]
  },
  {
   "cell_type": "markdown",
   "id": "7159822d",
   "metadata": {},
   "source": [
    "3\n",
    "\n",
    "`for taking year(y) as argument`\n",
    "\n",
    "<b>\n",
    "<code>\n",
    "import calendar\n",
    "    \n",
    "y = int(input(\"Enter the year:\"))\n",
    "print(calendar.calendar(y))\n",
    "\n",
    "</code>\n",
    "</b>\n",
    "\n",
    "`for taking year(y) and month(m) as argument`\n",
    "\n",
    "<b>\n",
    "<code>\n",
    "import calendar\n",
    " \n",
    "y = int(input(\"Enter the year:))\n",
    "m = int(input(\"Enter the month:\"))\n",
    "print(calendar.month(y , m))\n",
    "</code>"
   ]
  },
  {
   "cell_type": "markdown",
   "id": "11c331d1",
   "metadata": {},
   "source": [
    "4\n",
    "\n",
    "<b>\n",
    "<code>\n",
    "try:\n",
    "    def solve_quad(a , b , c):\n",
    "        det_minat = (b**2 - 4*a*c)**0.5\n",
    "        return ((-b + det_minat)/(2*a) , (-b - det_minat)/(2*a))\n",
    "    a = int(input(\"Enter the co-efficient of x^2 :\"))\n",
    "    b = int(input(\"Enter the co-efficient of x :\"))\n",
    "    c = int(input(\"Enter the constanct term :\"))\n",
    "    x1 , x2 = solve_quad(a , b , c)\n",
    "    print(\"Solution is {:.2} & {:.2}\".format(x1 , x2))\n",
    "except Exception as e:\n",
    "    print(e)\n",
    "</code>    "
   ]
  },
  {
   "cell_type": "markdown",
   "id": "89b85f63",
   "metadata": {},
   "source": [
    "5\n",
    "\n",
    "<b>\n",
    "<code>\n",
    "a = int(input(\"Enter first no: \"))\n",
    "b = int(input(\"Enter the second no: \"))\n",
    "print(f\"Before swap a = {a} , b = {b} \")\n",
    "a,b = b ,a\n",
    "print(f\"After swap a = {a} , b = {b}\")\n",
    "</code>"
   ]
  }
 ],
 "metadata": {
  "kernelspec": {
   "display_name": "Python 3 (ipykernel)",
   "language": "python",
   "name": "python3"
  },
  "language_info": {
   "codemirror_mode": {
    "name": "ipython",
    "version": 3
   },
   "file_extension": ".py",
   "mimetype": "text/x-python",
   "name": "python",
   "nbconvert_exporter": "python",
   "pygments_lexer": "ipython3",
   "version": "3.8.8"
  }
 },
 "nbformat": 4,
 "nbformat_minor": 5
}
