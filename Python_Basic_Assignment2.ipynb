{
 "cells": [
  {
   "cell_type": "markdown",
   "id": "2559e1a9",
   "metadata": {},
   "source": [
    "1\n",
    "\n",
    "Escape characters represent characters in string values that would otherwise be difficult or impossible to type into code.\n",
    "We use them by:-\n",
    "- the backslash character to escape a single character or symbol. Only the character immediately following the backslash is escaped"
   ]
  },
  {
   "cell_type": "markdown",
   "id": "608828d6",
   "metadata": {},
   "source": [
    "2\n",
    "\n",
    "\\n is a newline; \\t is a tab."
   ]
  },
  {
   "cell_type": "markdown",
   "id": "06c2ce65",
   "metadata": {},
   "source": [
    "3\n",
    "\n",
    "The `\\\\` escape character will represent a backslash character."
   ]
  },
  {
   "cell_type": "markdown",
   "id": "16dd0ab5",
   "metadata": {},
   "source": [
    "4\n",
    "\n",
    "The single quote in Howl's is fine because in here it used double quotes to mark the beginning and end of the string."
   ]
  },
  {
   "cell_type": "markdown",
   "id": "675f64bc",
   "metadata": {},
   "source": [
    "5\n",
    "\n",
    "By using mulitiline string ."
   ]
  },
  {
   "cell_type": "markdown",
   "id": "dbf59fc1",
   "metadata": {},
   "source": [
    "6\n",
    "\n",
    "- 'Hello, world!'[1]    = 'e'\n",
    "- 'Hello, world!'[0:5]  = 'Hello'\n",
    "- 'Hello, world!'[:5]   = 'Hello'\n",
    "- 'Hello, world!'[3:]   = 'lo, world!'"
   ]
  },
  {
   "cell_type": "markdown",
   "id": "a1fac41c",
   "metadata": {},
   "source": [
    "7\n",
    "\n",
    "- 'Hello'.upper()            = 'HELLO'\n",
    "- 'Hello'.upper().isupper()  =  True\n",
    "- 'Hello'.upper().lower()    =  'hello'"
   ]
  },
  {
   "cell_type": "markdown",
   "id": "09b31cb5",
   "metadata": {},
   "source": [
    "8\n",
    "\n",
    "- ['Remember,', 'remember,', 'the', 'fifth', 'of', 'November.']\n",
    "\n",
    "- 'There-can-be-only-one.'"
   ]
  },
  {
   "cell_type": "markdown",
   "id": "a3d414dd",
   "metadata": {},
   "source": [
    "9\n",
    "\n",
    "The rjust(), ljust(), and center() are the methods for respective justify."
   ]
  },
  {
   "cell_type": "markdown",
   "id": "c5141122",
   "metadata": {},
   "source": [
    "10\n",
    "\n",
    "The strip(), lstrip() and rstrip() methods remove whitespace from the left and right ends of a string, respectively."
   ]
  }
 ],
 "metadata": {
  "kernelspec": {
   "display_name": "Python 3 (ipykernel)",
   "language": "python",
   "name": "python3"
  },
  "language_info": {
   "codemirror_mode": {
    "name": "ipython",
    "version": 3
   },
   "file_extension": ".py",
   "mimetype": "text/x-python",
   "name": "python",
   "nbconvert_exporter": "python",
   "pygments_lexer": "ipython3",
   "version": "3.8.8"
  }
 },
 "nbformat": 4,
 "nbformat_minor": 5
}
