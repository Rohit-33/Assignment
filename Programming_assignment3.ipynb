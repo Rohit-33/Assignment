{
 "cells": [
  {
   "cell_type": "markdown",
   "id": "7c7cd3d9",
   "metadata": {},
   "source": [
    "1\n",
    "\n",
    "<code>\n",
    "    \n",
    "num = float(input(\"Enter a number: \"))\n",
    "if num > 0:\n",
    "    print(\"Positive number\")\n",
    "elif num == 0:\n",
    "    print(\"Zero\")\n",
    "else:\n",
    "    print(\"Negative number\")\n",
    "</code>"
   ]
  },
  {
   "cell_type": "markdown",
   "id": "7cee9ea5",
   "metadata": {},
   "source": [
    "2\n",
    "\n",
    "<code>\n",
    "    \n",
    "    \n",
    "num = int(input(\"Enter a number:\"))\n",
    "if num%2 == 0:\n",
    "    print(\"Even number\")\n",
    "else:\n",
    "    print(\"Odd number\")\n",
    "    \n",
    "    \n",
    "</code>"
   ]
  },
  {
   "cell_type": "markdown",
   "id": "ba88ad52",
   "metadata": {},
   "source": [
    "3\n",
    "\n",
    "<code>\n",
    "\n",
    "\n",
    "year = int(input(\"Enter the year:\"))\n",
    "\n",
    "if (year % 400 == 0) and (year % 100 == 0):\n",
    "    print(\"{0} is a leap year\".format(year))\n",
    "\n",
    "elif (year % 4 ==0) and (year % 100 != 0):\n",
    "    print(\"{0} is a leap year\".format(year))\n",
    "\n",
    "else:\n",
    "    print(\"{0} is not a leap year\".format(year))\n",
    "</code>"
   ]
  },
  {
   "cell_type": "markdown",
   "id": "8b02c5c1",
   "metadata": {},
   "source": [
    "4\n",
    "\n",
    "<code>\n",
    "\n",
    "from math import sqrt\n",
    "\n",
    "n = int(input(\"Enter the number:\"))\n",
    "prime_flag = 0\n",
    "\n",
    "if(n > 1):\n",
    "    for i in range(2, int(sqrt(n)) + 1):\n",
    "        if (n % i == 0):\n",
    "            prime_flag = 1\n",
    "            break\n",
    "    if (prime_flag == 0):\n",
    "        print(\"Prime\")\n",
    "    else:\n",
    "        print(\"Not Prime\")\n",
    "else:\n",
    "    print(\"Not Prime\")\n",
    "\n",
    "</code>"
   ]
  },
  {
   "cell_type": "markdown",
   "id": "d350ab48",
   "metadata": {},
   "source": [
    "5\n",
    "\n",
    "<code>\n",
    "\n",
    "from math import sqrt\n",
    "\n",
    "for n in range(0, 10000):\n",
    "    prime_flag = 0\n",
    "    if(n > 1):\n",
    "        for i in range(2, int(sqrt(n)) + 1):\n",
    "            if (n % i == 0):\n",
    "                prime_flag = 1\n",
    "                break\n",
    "        if (prime_flag == 0):\n",
    "            print(n)\n",
    "</code>"
   ]
  }
 ],
 "metadata": {
  "kernelspec": {
   "display_name": "Python 3 (ipykernel)",
   "language": "python",
   "name": "python3"
  },
  "language_info": {
   "codemirror_mode": {
    "name": "ipython",
    "version": 3
   },
   "file_extension": ".py",
   "mimetype": "text/x-python",
   "name": "python",
   "nbconvert_exporter": "python",
   "pygments_lexer": "ipython3",
   "version": "3.8.8"
  }
 },
 "nbformat": 4,
 "nbformat_minor": 5
}
