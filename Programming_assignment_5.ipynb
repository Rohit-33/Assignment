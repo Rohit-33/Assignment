{
 "cells": [
  {
   "cell_type": "markdown",
   "id": "80645430",
   "metadata": {},
   "source": [
    "1\n",
    "\n",
    "<code>\n",
    "def find_hcf(d1, d2):\n",
    "    if (d2 == 0):\n",
    "        return d1\n",
    "    else:\n",
    "        if(d1 > d2):\n",
    "            return find_hcf(d2 , d1%d2)\n",
    "        else:\n",
    "            return find_hcf(d1 , d2%d1)\n",
    "def find_lcm(d1, d2):\n",
    "    x = find_hcf(d1 , d2)\n",
    "    return (x * (d1/x) * (d2/x)) , d1, d2\n",
    "x , d1 , d2 = find_lcm(int(input(\"Enter 1st no :\")) , int(input(\"Enter the second number :\")))\n",
    "print(f\"LCM of {d1 , d2 } is {x}\")\n",
    "\n",
    "</code>"
   ]
  },
  {
   "cell_type": "markdown",
   "id": "8a2556c5",
   "metadata": {},
   "source": [
    "2\n",
    "\n",
    "<code>\n",
    "def find_hcf(d1, d2):\n",
    "    if (d2 == 0):\n",
    "        return d1\n",
    "    else:\n",
    "        if(d1 > d2):\n",
    "            return find_hcf(d2 , d1%d2)\n",
    "        else:\n",
    "            return find_hcf(d1 , d2%d1)\n",
    "x , d1 , d2 = find_hcf(int(input(\"Enter 1st no :\")) , int(input(\"Enter the second number :\")))\n",
    "print(f\"HCM of {d1 , d2 } is {x}\")\n",
    "</code>"
   ]
  },
  {
   "cell_type": "markdown",
   "id": "7cf25f3f",
   "metadata": {},
   "source": [
    "3\n",
    "\n",
    "<code>\n",
    "def dec_bin(num):\n",
    "    l = ''\n",
    "    while(num!= 0):\n",
    "        l += str(num%2)\n",
    "        num //= 2\n",
    "    l = l[-1::-1]\n",
    "    return (int(l))\n",
    "def dec_oct(num):\n",
    "    l = ''\n",
    "    while(num!= 0):\n",
    "        l += str(num%8)\n",
    "        num //= 8\n",
    "    l = l[-1::-1]\n",
    "    return (int(l))\n",
    "def dec_hex(num):\n",
    "    l = ''\n",
    "    while(num!= 0):\n",
    "        l += str(num%16)\n",
    "        num //= 16\n",
    "    l = l[-1::-1]\n",
    "    return (int(l))\n",
    "x = int(input(\"Enter the number : \"))\n",
    "print(\"Decimal to binary conversion if number \", x , \"is \" , dec_bin(x))\n",
    "print(\"Decimal to octal conversion if number \", x , \"is \" ,dec_oct(x))\n",
    "print(\"Decimal to hexadecimal  conversion if number \", x , \"is \" ,dec_hex(x))\n",
    "</code>"
   ]
  },
  {
   "cell_type": "markdown",
   "id": "f51e20a0",
   "metadata": {},
   "source": [
    "4\n",
    "\n",
    "<code>\n",
    "c = 'p'\n",
    "print(\"The ASCII value of '\" + c + \"' is\", ord(c))\n",
    "</code>"
   ]
  },
  {
   "cell_type": "markdown",
   "id": "d7c75ead",
   "metadata": {},
   "source": [
    "5\n",
    "\n",
    "<code>\n",
    "def add(x, y):\n",
    "    return x + y\n",
    "def subtract(x, y):\n",
    "    return x - y\n",
    "def multiply(x, y):\n",
    "    return x * y\n",
    "def divide(x, y):\n",
    "    return x / y\n",
    "print(\"Select operation.\")\n",
    "print(\"1.Add\")\n",
    "print(\"2.Subtract\")\n",
    "print(\"3.Multiply\")\n",
    "print(\"4.Divide\")\n",
    "while True:\n",
    "    choice = input(\"Enter choice(1/2/3/4): \")\n",
    "    if choice in ('1', '2', '3', '4'):\n",
    "        try:\n",
    "            num1 = float(input(\"Enter first number: \"))\n",
    "            num2 = float(input(\"Enter second number: \"))\n",
    "        except ValueError:\n",
    "            print(\"Invalid input. Please enter a number.\")\n",
    "            continue\n",
    "        if choice == '1':\n",
    "            print(num1, \"+\", num2, \"=\", add(num1, num2))\n",
    "        elif choice == '2':\n",
    "            print(num1, \"-\", num2, \"=\", subtract(num1, num2))\n",
    "        elif choice == '3':\n",
    "            print(num1, \"*\", num2, \"=\", multiply(num1, num2))\n",
    "        elif choice == '4':\n",
    "            print(num1, \"/\", num2, \"=\", divide(num1, num2))\n",
    "        next_calculation = input(\"Let's do next calculation? (yes/no): \")\n",
    "        if next_calculation == \"no\":\n",
    "            break\n",
    "    else:\n",
    "        print(\"Invalid Input\")\n",
    "</code>"
   ]
  }
 ],
 "metadata": {
  "kernelspec": {
   "display_name": "Python 3 (ipykernel)",
   "language": "python",
   "name": "python3"
  },
  "language_info": {
   "codemirror_mode": {
    "name": "ipython",
    "version": 3
   },
   "file_extension": ".py",
   "mimetype": "text/x-python",
   "name": "python",
   "nbconvert_exporter": "python",
   "pygments_lexer": "ipython3",
   "version": "3.8.8"
  }
 },
 "nbformat": 4,
 "nbformat_minor": 5
}
