{
 "cells": [
  {
   "cell_type": "markdown",
   "id": "52d97b97",
   "metadata": {},
   "source": [
    "1.\n",
    "\n",
    "<code>\n",
    "print(\"Hello Python\")\n",
    "</code>"
   ]
  },
  {
   "cell_type": "markdown",
   "id": "b502726d",
   "metadata": {},
   "source": [
    "2.\n",
    "<code>\n",
    "def add(a , b):\n",
    "    return a+b\n",
    "</code>\n",
    "<code>\n",
    "try:\n",
    "    def divide(a , b):\n",
    "        return a/b\n",
    "except e:\n",
    "    print(\"Exception\" + e + \"occurs\")\n",
    "</code>"
   ]
  },
  {
   "cell_type": "markdown",
   "id": "614255f7",
   "metadata": {},
   "source": [
    "3\n",
    "<code>\n",
    "def area_triangle(b , h):\n",
    "    return 0.5*b*h\n",
    "</code>"
   ]
  },
  {
   "cell_type": "markdown",
   "id": "e8ed8889",
   "metadata": {},
   "source": [
    "4.\n",
    "<code>\n",
    "def swap(a , b):\n",
    "    a, b = b , a\n",
    "    return a , b\n",
    "</code>"
   ]
  },
  {
   "cell_type": "markdown",
   "id": "574aa949",
   "metadata": {},
   "source": [
    "5\n",
    "<code>\n",
    "import random\n",
    "num = random.random()\n",
    "print(num)\n",
    "</code>"
   ]
  }
 ],
 "metadata": {
  "kernelspec": {
   "display_name": "Python 3 (ipykernel)",
   "language": "python",
   "name": "python3"
  },
  "language_info": {
   "codemirror_mode": {
    "name": "ipython",
    "version": 3
   },
   "file_extension": ".py",
   "mimetype": "text/x-python",
   "name": "python",
   "nbconvert_exporter": "python",
   "pygments_lexer": "ipython3",
   "version": "3.8.8"
  }
 },
 "nbformat": 4,
 "nbformat_minor": 5
}
