{
 "cells": [
  {
   "cell_type": "markdown",
   "id": "0a6731d6",
   "metadata": {},
   "source": [
    "<body>1. \"hello\" ,-87.5,6 are values and *,-,/,+ are mathematical operators</body>"
   ]
  },
  {
   "cell_type": "markdown",
   "id": "c50103a5",
   "metadata": {},
   "source": [
    "<body>2. String is data type in which we can say array of characters store as the instance of string object which is stored in variable and Variable is used to store the information of any datatype.</body>"
   ]
  },
  {
   "cell_type": "markdown",
   "id": "4f4dd439",
   "metadata": {},
   "source": [
    "<body>\n",
    "3. Three different datatypes in python are :<br>\n",
    "    &nbsp;1.Integers:-This value is represented by int class. It contains positive or negative whole numbers (without fraction or decimal). In Python there is no limit to how long an integer value can be.<br>\n",
    "    &nbsp;2.Float :– This value is represented by float class. It is a real number with floating point representation. It is specified by a decimal point. Optionally, the character e or E followed by a positive or negative integer may be appended to specify scientific notation.<br>\n",
    "    &nbsp;3.String :-  A string is a collection of one or more characters put in a single quote, double-quote or triple quote which are array of bytes representing Unicode characters.\n",
    "</body>       "
   ]
  },
  {
   "cell_type": "markdown",
   "id": "b594e901",
   "metadata": {},
   "source": [
    "<body>\n",
    "4. Expression is combination of operators,operands and methods according to right logic,syntax and are interpretable .\n",
    "All Expression produce some value after evaluating by interpreter.\n",
    "</body>"
   ]
  },
  {
   "cell_type": "markdown",
   "id": "c1e67745",
   "metadata": {},
   "source": [
    "<body>\n",
    "5. Statement are used creating or displaying variables while expression are used to produce the result by interpreter\n",
    "</body>"
   ]
  },
  {
   "cell_type": "markdown",
   "id": "e446f34d",
   "metadata": {},
   "source": [
    "<body>\n",
    "6. bacon will still contain 22\n",
    "</body>"
   ]
  },
  {
   "cell_type": "markdown",
   "id": "7d31c0ed",
   "metadata": {},
   "source": [
    "<body>\n",
    "7.<br>&nbsp; a. 'spam' + 'spamspam' = 'spamspamspam'\n",
    "<br>&nbsp; b. 'spam'*3 = 'spamspamspam'\n",
    "</body>"
   ]
  },
  {
   "cell_type": "markdown",
   "id": "06e0fb50",
   "metadata": {},
   "source": [
    "<body>\n",
    "8. Because variables should start with character or undersocre(_) not with number.\n",
    "</body>"
   ]
  },
  {
   "cell_type": "markdown",
   "id": "b83000f5",
   "metadata": {},
   "source": [
    "<body>\n",
    "9. We can use int() , float(), str() to get the integer, floating-point number, or string version of a value.\n",
    "</body>"
   ]
  },
  {
   "cell_type": "markdown",
   "id": "a802542e",
   "metadata": {},
   "source": [
    "<body>\n",
    "10. This expression cause error because during string concatenation 99 is not the string which can be solved by \n",
    "    'I have eaten' + str(99) + 'burritos'.\n",
    "</body>"
   ]
  },
  {
   "cell_type": "code",
   "execution_count": null,
   "id": "9c55e34a",
   "metadata": {},
   "outputs": [],
   "source": []
  }
 ],
 "metadata": {
  "kernelspec": {
   "display_name": "Python 3 (ipykernel)",
   "language": "python",
   "name": "python3"
  },
  "language_info": {
   "codemirror_mode": {
    "name": "ipython",
    "version": 3
   },
   "file_extension": ".py",
   "mimetype": "text/x-python",
   "name": "python",
   "nbconvert_exporter": "python",
   "pygments_lexer": "ipython3",
   "version": "3.8.8"
  }
 },
 "nbformat": 4,
 "nbformat_minor": 5
}
