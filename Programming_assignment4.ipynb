{
 "cells": [
  {
   "cell_type": "markdown",
   "id": "7a9b6878",
   "metadata": {},
   "source": [
    "1\n",
    "\n",
    "<code>\n",
    "\n",
    "def fact(n):\n",
    "    if n==1 or n==0:\n",
    "        return 1\n",
    "    else:\n",
    "        return n*fact(n-1)\n",
    "    \n",
    "print(\"Fact of number is :\" , fact(int(input(\"Enter the number: \"))))\n",
    "\n",
    "</code>"
   ]
  },
  {
   "cell_type": "markdown",
   "id": "3bef47fd",
   "metadata": {},
   "source": [
    "2\n",
    "\n",
    "<code>\n",
    "\n",
    "def show_table(m,n):\n",
    "    for i in range(1,n+1):\n",
    "        print(f\"{m}*{i} = {m*i}\")\n",
    "    \n",
    "    \n",
    "show_table(int(input(\"Enter the no. to find the multiplication table:\")) , int(input(\"Enter the no. of times:\")))\n",
    "\n",
    "</code>"
   ]
  },
  {
   "cell_type": "markdown",
   "id": "d32adaea",
   "metadata": {},
   "source": [
    "3\n",
    "\n",
    "<code>\n",
    "\n",
    "def fib(n):\n",
    "    if n==1:\n",
    "        return 0\n",
    "    elif n== 2:\n",
    "        return 1\n",
    "    else:\n",
    "        return fib(n-1)+fib(n-2)\n",
    "def times(t):\n",
    "    for i in range(1,t+1):\n",
    "        print(fib(i),end=\",\")\n",
    "        \n",
    "times(int(input(\"Enter the sequence number upto which to find the sequence:\")))\n",
    "</code>"
   ]
  },
  {
   "cell_type": "markdown",
   "id": "d30d69f6",
   "metadata": {},
   "source": [
    "4\n",
    "\n",
    "<code>\n",
    "\n",
    "\n",
    "num = int(input(\"Enter a number: \"))\n",
    "\n",
    "sum = 0\n",
    "temp = num\n",
    "while temp > 0:\n",
    "    digit = temp % 10\n",
    "    sum += digit ** 3\n",
    "    temp //= 10\n",
    "\n",
    "if num == sum:\n",
    "    print(num,\"is an Armstrong number\")\n",
    "else:\n",
    "    print(num,\"is not an Armstrong number\")\n",
    "    \n",
    "</code>"
   ]
  },
  {
   "cell_type": "markdown",
   "id": "ee185b3a",
   "metadata": {},
   "source": [
    "5\n",
    "\n",
    "<code>\n",
    "\n",
    "def arm(lower , upper):\n",
    "    for num in range(lower, upper + 1):\n",
    "        order = len(str(num))\n",
    "        sum = 0\n",
    "\n",
    "        temp = num\n",
    "        while temp > 0:\n",
    "            digit = temp % 10\n",
    "            sum += digit ** order\n",
    "            temp //= 10\n",
    "\n",
    "        if num == sum:\n",
    "            print(num)\n",
    "\n",
    "arm(int(input(\"Enter the lower range number : \")) , int(input(\"Enter the upper range number: \")))\n",
    "\n",
    "</code>"
   ]
  },
  {
   "cell_type": "markdown",
   "id": "dcb23b59",
   "metadata": {},
   "source": [
    "6\n",
    "\n",
    "<code>\n",
    "\n",
    "def sum(n):\n",
    "\n",
    "    if(n<=0):\n",
    "        print(\"Sum is not possibe\")\n",
    "    else:\n",
    "        s = 0\n",
    "        for i in range(1 , n+1):\n",
    "            s += i\n",
    "        print(f\"Sum of {n} natural number is :\" , s)\n",
    "sum(int(input(\"Enter the natural number :\")))\n",
    "\n",
    "</code>"
   ]
  }
 ],
 "metadata": {
  "kernelspec": {
   "display_name": "Python 3 (ipykernel)",
   "language": "python",
   "name": "python3"
  },
  "language_info": {
   "codemirror_mode": {
    "name": "ipython",
    "version": 3
   },
   "file_extension": ".py",
   "mimetype": "text/x-python",
   "name": "python",
   "nbconvert_exporter": "python",
   "pygments_lexer": "ipython3",
   "version": "3.8.8"
  }
 },
 "nbformat": 4,
 "nbformat_minor": 5
}
