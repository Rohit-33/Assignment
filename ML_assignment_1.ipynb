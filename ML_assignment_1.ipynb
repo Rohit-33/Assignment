{
 "cells": [
  {
   "cell_type": "markdown",
   "id": "73052afc",
   "metadata": {},
   "source": [
    "1\n",
    "\n",
    "Machine learning is the process in which the model learn from the training data to generealize well the future data."
   ]
  },
  {
   "cell_type": "markdown",
   "id": "9cb0cbad",
   "metadata": {},
   "source": [
    "2 \n",
    "\n",
    "It shine mostly in spam detection in email, cancer diagnosis, fraudulent credit card transactions, and automatically driving vehicles."
   ]
  },
  {
   "cell_type": "markdown",
   "id": "42be8137",
   "metadata": {},
   "source": [
    "3\n",
    "\n",
    "Labelled training set means for each training instance there will be a output label . After that we can use to train the model to reduce the error. "
   ]
  },
  {
   "cell_type": "markdown",
   "id": "27b31d53",
   "metadata": {},
   "source": [
    "4\n",
    "\n",
    "The two most important tasks that are supervised and regression."
   ]
  },
  {
   "cell_type": "markdown",
   "id": "758d9eb4",
   "metadata": {},
   "source": [
    "5\n",
    "\n",
    "- Custome segmentation\n",
    "- Whether forecasting\n",
    "- House price prediction\n",
    "- Phone price prediction"
   ]
  },
  {
   "cell_type": "markdown",
   "id": "65d480f5",
   "metadata": {},
   "source": [
    "6\n",
    "- Deep Reinforcement Learning model."
   ]
  },
  {
   "cell_type": "markdown",
   "id": "2d8f0a7e",
   "metadata": {},
   "source": [
    "7\n",
    "\n",
    "Different clustering algorithms like:-\n",
    "- k-means clustering\n",
    "- Hierarchical clustering\n",
    "- Gaussian mixture model (GMM)\n",
    "- Neural network based model like auto-encoders"
   ]
  },
  {
   "cell_type": "markdown",
   "id": "4de48e35",
   "metadata": {},
   "source": [
    "8\n",
    "\n",
    "It is consider as supervised learning algorithm."
   ]
  },
  {
   "cell_type": "markdown",
   "id": "99ef2569",
   "metadata": {},
   "source": [
    "9\n",
    "\n",
    "An online learning system is a type of machine learning system that is able to learn and adapt as new data becomes available. It is different from traditional \"batch\" learning systems, which learn from all of the available data at once and then cannot update their models with new data."
   ]
  },
  {
   "cell_type": "markdown",
   "id": "13a127a8",
   "metadata": {},
   "source": [
    "10\n",
    "\n",
    "- <b>Out-of-core learning</b>:- It is a ML algorithm that allows a model to be trained with taking certain batch from the taining set from out of memmory which cannot fit it into the memmory.\n",
    "- <b>core learning</b> :- In here we tanke the whole dataset as input in one go to the training model."
   ]
  },
  {
   "cell_type": "markdown",
   "id": "8f8975ad",
   "metadata": {},
   "source": [
    "11\n",
    "\n",
    "Similarity-based algorithm or instance-based learning algorithm makes prediction using similarity measure."
   ]
  },
  {
   "cell_type": "markdown",
   "id": "269a78d3",
   "metadata": {},
   "source": [
    "12\n",
    "\n",
    "- model parameter are the cumpulsary parameter which should be give during calling the function \n",
    "- hyperparemter are the paramter which are used to tune the model so that we regularized the model to get low bias and low variance."
   ]
  },
  {
   "cell_type": "markdown",
   "id": "f88d6ce6",
   "metadata": {},
   "source": [
    "13\n",
    "\n",
    "Model-based learning algorithms looks for Simplicity, Generalization and Efficiency, uses Maximum Likelihood Estimation (MLE) as the most popular method to achieve success, and uses the trained model to make predictions."
   ]
  },
  {
   "cell_type": "markdown",
   "id": "7704c4bb",
   "metadata": {},
   "source": [
    "14\n",
    "\n",
    "ML challenges are:\n",
    "- overfitting \n",
    "- underfitting\n",
    "- Data qulity\n",
    "- scalability"
   ]
  },
  {
   "cell_type": "markdown",
   "id": "169f2a3f",
   "metadata": {},
   "source": [
    "15\n",
    "\n",
    "This is the case of overfitting which can be reduced by:\n",
    "- Regularization\n",
    "- selecting the important feature\n",
    "- Getting more trained to train the model\n",
    "- Tune the hyperparameter\n",
    "- cross validation"
   ]
  },
  {
   "cell_type": "markdown",
   "id": "208c2e16",
   "metadata": {},
   "source": [
    "16\n",
    "\n",
    "It is a set of training instance which is used to measure how well the model generalize to training data"
   ]
  },
  {
   "cell_type": "markdown",
   "id": "61de3c4b",
   "metadata": {},
   "source": [
    "17\n",
    "\n",
    "Validation set is used to validate the model during the each epoch of training so that the model can decrease the loss during training."
   ]
  },
  {
   "cell_type": "markdown",
   "id": "c6fe0fa8",
   "metadata": {},
   "source": [
    "18\n",
    "\n",
    "A train-dev (or development) kit is a set of data that is used to evaluate the performance of a machine learning model during the training process. It is different from the training data, which is used to train the model, and the test data, which is used to evaluate the performance of the final model."
   ]
  },
  {
   "cell_type": "markdown",
   "id": "2772cdec",
   "metadata": {},
   "source": [
    "19\n",
    "\n",
    "Then model overfit the data and get high variance for future data with low bias and will not generalise to new unseen data instance."
   ]
  }
 ],
 "metadata": {
  "kernelspec": {
   "display_name": "Python 3 (ipykernel)",
   "language": "python",
   "name": "python3"
  },
  "language_info": {
   "codemirror_mode": {
    "name": "ipython",
    "version": 3
   },
   "file_extension": ".py",
   "mimetype": "text/x-python",
   "name": "python",
   "nbconvert_exporter": "python",
   "pygments_lexer": "ipython3",
   "version": "3.8.8"
  }
 },
 "nbformat": 4,
 "nbformat_minor": 5
}
