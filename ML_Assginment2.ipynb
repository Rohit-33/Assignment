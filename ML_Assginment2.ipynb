{
 "cells": [
  {
   "cell_type": "markdown",
   "id": "9a02deae",
   "metadata": {},
   "source": [
    "1\n",
    "\n",
    "Human Learning is an alternative approach to public management which embraces the complexity of the real world, and enables us to work effectively in that complexity.\n",
    "Two examples are:\n",
    "- Learn to drive a car\n",
    "- Learning math"
   ]
  },
  {
   "cell_type": "markdown",
   "id": "7e11fba8",
   "metadata": {},
   "source": [
    "2\n",
    "\n",
    "Three Major Types of Human Learnings are:\n",
    "\n",
    "- Learning through association - Classical Conditioning.\n",
    "- Learning through consequences – Operant Conditioning.\n",
    "- Learning through observation – Modeling/Observational Learning.\n",
    "\n",
    "Yes, there is ML equivalent to each Human Learning\n",
    "\n",
    "Classical= Supervised Learning \n",
    "<br>\n",
    "Operant , Modelling/Observation Learning = Reinforcement Learning"
   ]
  },
  {
   "cell_type": "markdown",
   "id": "5ff638f9",
   "metadata": {},
   "source": [
    "3\n",
    "\n",
    "Machine Learning is the ability to adapt to new data independently and through iterations.  Applications learn from previous computations and transactions and use “pattern recognition” to produce reliable and informed results.\n",
    "<br>\n",
    "<br>\n",
    "\n",
    "The Machine Learning process starts with inputting training data into the selected algorithm. Training data being known or unknown data to develop the final Machine Learning algorithm.New input data is fed into the machine learning algorithm to test whether the algorithm works correctly. The prediction and results are then checked against each other.If the prediction and results don’t match, the algorithm is re-trained multiple times until the data scientist gets the desired outcome. This enables the machine learning algorithm to continually learn on its own and produce the optimal answer, gradually increasing in accuracy over time.\n",
    "<br>\n",
    "<br>\n",
    "<br>\n",
    "The key responsibilty is to decrease error as much as possible."
   ]
  },
  {
   "cell_type": "markdown",
   "id": "7ca9d760",
   "metadata": {},
   "source": [
    "4\n",
    "\n",
    "- Penalty:- When the desired out is away from the actual output that is there is more error in the prediction the we add penalty to increase accuracy\n",
    "- Reward :- When the desired out is toward the actual output then we reward the output for continue the same process."
   ]
  },
  {
   "cell_type": "markdown",
   "id": "db11ba10",
   "metadata": {},
   "source": [
    "5\n",
    "\n",
    "Learning as search is searching through a large space of hypotheses implicitly defined by the hypothesis representation"
   ]
  },
  {
   "cell_type": "markdown",
   "id": "2ab4fe63",
   "metadata": {},
   "source": [
    "6\n",
    "\n",
    "The goals of ML are:\n",
    "- To make the computers smarter,more intelligent.\n",
    "- To develop computational models of human learning process.\n",
    "- To explore newlearning methods and develop general learning algorithms independent of applications.\n",
    "\n",
    "As human learning uses cognitive learning , inference and past experience and have more prone to error.\n",
    "\n",
    "<br>\n",
    "<br>"
   ]
  },
  {
   "cell_type": "markdown",
   "id": "438374e6",
   "metadata": {},
   "source": [
    "7\n",
    "\n",
    "There are three main elements to every machine learning algorithm, and they include:\n",
    "\n",
    "- Representation: what the model looks like; how knowledge is represented eg., Image representaion\n",
    "- Evaluation: how good models are differentiated; how programs are evaluated eg., accuracy metrics\n",
    "- Optimization: the process for finding good models; how programs are generated eg., ADAM optimizer"
   ]
  },
  {
   "cell_type": "markdown",
   "id": "e58e1f12",
   "metadata": {},
   "source": [
    "8\n",
    "\n",
    "<code>\n",
    "\n",
    "from abc import ABC, abstractmethod\n",
    "    \n",
    "class DemoAbstractClass(ABC):\n",
    "    @abstractmethod\n",
    "    def abstract_method_name(self):\n",
    "        pass\n",
    "    \n",
    "</code>\n",
    "- we can add method implimentation in the calling child method of DemoAbstractClass"
   ]
  },
  {
   "cell_type": "markdown",
   "id": "6682db3b",
   "metadata": {},
   "source": [
    "9\n",
    "\n",
    "<b>Generalization :</b> is the model's ability to adapt properly to new, previously unseen data, drawn from the same distribution as the one used to create the model.\n",
    "\n",
    "It is the ability to handle unseen data. The generalization capability of the network is mostly determined by system complexity and training of the network."
   ]
  },
  {
   "cell_type": "markdown",
   "id": "3469aab1",
   "metadata": {},
   "source": [
    "10\n",
    "\n",
    "Classification  is the process that tags and categorizes any kind of data so that it can be better understood and analyzed.\n",
    "\n",
    "The most significant difference between regression vs classification is that while regression helps predict a continuous quantity, classification predicts discrete class labels."
   ]
  },
  {
   "cell_type": "markdown",
   "id": "883b9539",
   "metadata": {},
   "source": [
    "11\n",
    "\n",
    "A regression is a statistical technique that relates a dependent variable to one or more independent (explanatory) variables. eg., predicting the price of a house given house features."
   ]
  },
  {
   "cell_type": "markdown",
   "id": "be3fce9d",
   "metadata": {},
   "source": [
    "12\n",
    "\n",
    "<b>Clustering : </b> is the task of dividing the population or data points into a number of groups such that data points in the same groups are more similar to other data points in the same group than those in other groups. \n"
   ]
  },
  {
   "cell_type": "markdown",
   "id": "84484578",
   "metadata": {},
   "source": [
    "13\n",
    "\n",
    "<b>i. Machine learning algorithms are used studying under supervision :- </b> trained using well \"labelled\" training data, and on basis of that data, machines predict the output. The labelled data means some input data is already tagged with the correct output. \n",
    "<br><b>ii. Machine learning algorithms are used studying under without supervision :- </b> uses machine learning algorithms to analyze and cluster unlabeled datasets. These algorithms discover hidden patterns or data groupings without the need for human intervention.\n",
    "<br>\n",
    "<b>iii. Reinforcement learning is a form of learning based on positive reinforcement :- </b>:- area of machine learning concerned with how intelligent agents ought to take actions in an environment in order to maximize the notion of cumulative reward. "
   ]
  }
 ],
 "metadata": {
  "kernelspec": {
   "display_name": "Python 3 (ipykernel)",
   "language": "python",
   "name": "python3"
  },
  "language_info": {
   "codemirror_mode": {
    "name": "ipython",
    "version": 3
   },
   "file_extension": ".py",
   "mimetype": "text/x-python",
   "name": "python",
   "nbconvert_exporter": "python",
   "pygments_lexer": "ipython3",
   "version": "3.8.8"
  }
 },
 "nbformat": 4,
 "nbformat_minor": 5
}
