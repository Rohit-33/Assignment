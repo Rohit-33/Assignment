{
 "cells": [
  {
   "cell_type": "markdown",
   "id": "615dcb6f",
   "metadata": {},
   "source": [
    "1.\n",
    "- [] is used to initialise a empty list by assigning to a variable."
   ]
  },
  {
   "cell_type": "markdown",
   "id": "49faef6c",
   "metadata": {},
   "source": [
    "2 `spam[2] = 'hello'`"
   ]
  },
  {
   "cell_type": "markdown",
   "id": "efe47cde",
   "metadata": {},
   "source": [
    "3 `'d'`"
   ]
  },
  {
   "cell_type": "markdown",
   "id": "9191c798",
   "metadata": {},
   "source": [
    "4 `'d'`"
   ]
  },
  {
   "cell_type": "markdown",
   "id": "ff45810c",
   "metadata": {},
   "source": [
    "5 `['a' , 'b']`"
   ]
  },
  {
   "cell_type": "markdown",
   "id": "9a89d998",
   "metadata": {},
   "source": [
    "6 `1`"
   ]
  },
  {
   "cell_type": "markdown",
   "id": "c1cd9b5a",
   "metadata": {},
   "source": [
    "7 `[3.14, 'cat', 11, 'cat', True, 99]`"
   ]
  },
  {
   "cell_type": "markdown",
   "id": "b184619f",
   "metadata": {},
   "source": [
    "8 `[3.14, 11, 'cat', True, 99]`"
   ]
  },
  {
   "cell_type": "markdown",
   "id": "d74e0a6d",
   "metadata": {},
   "source": [
    "9\n",
    "- `+` :- Is used for list concatenation\n",
    "- `*` :- Is used for list replication"
   ]
  },
  {
   "cell_type": "markdown",
   "id": "5cf94e3d",
   "metadata": {},
   "source": [
    "10\n",
    "- append() :- It only adds the list element in the last \n",
    "- insert() :- It inserts the specified value at the specified position. "
   ]
  },
  {
   "cell_type": "markdown",
   "id": "dc554a01",
   "metadata": {},
   "source": [
    "11\n",
    "- remove():- It helps to remove the very first given element matching from the list.\n",
    "- pop():-It removes an element from the list based on the index given."
   ]
  },
  {
   "cell_type": "markdown",
   "id": "27fe5eec",
   "metadata": {},
   "source": [
    "12\n",
    "<br>&emsp;The list and string value are identical as :\n",
    "- They both use `+` and `*` for concatenation and replication resepectively.\n",
    "- They both are iterable which can be used in for loop for iteration."
   ]
  },
  {
   "cell_type": "markdown",
   "id": "9be5dfda",
   "metadata": {},
   "source": [
    "13\n",
    "- List is mutable where as Tuple in immutable\n",
    "- List consume more time consuming where as tuple is less time consuming. "
   ]
  },
  {
   "cell_type": "markdown",
   "id": "efb7428c",
   "metadata": {},
   "source": [
    "14 `(42,)`"
   ]
  },
  {
   "cell_type": "markdown",
   "id": "b5d51997",
   "metadata": {},
   "source": [
    "15\n",
    "- we can use `list()` built-in method in tuple object to get list object.\n",
    "- we can use `tuple()` built-in method in list object to get tuple object."
   ]
  },
  {
   "cell_type": "markdown",
   "id": "37a7e9ca",
   "metadata": {},
   "source": [
    "16 They contain instance or refrence of list object ."
   ]
  },
  {
   "cell_type": "markdown",
   "id": "7c13f922",
   "metadata": {},
   "source": [
    "17\n",
    "- copy.copy():-It returns a shallow copy of the list\n",
    "- copy.deepcopy():-It returns a deep copy of the list i.e, changes made to a copy of the object do not reflect in the original object."
   ]
  }
 ],
 "metadata": {
  "kernelspec": {
   "display_name": "Python 3 (ipykernel)",
   "language": "python",
   "name": "python3"
  },
  "language_info": {
   "codemirror_mode": {
    "name": "ipython",
    "version": 3
   },
   "file_extension": ".py",
   "mimetype": "text/x-python",
   "name": "python",
   "nbconvert_exporter": "python",
   "pygments_lexer": "ipython3",
   "version": "3.8.8"
  }
 },
 "nbformat": 4,
 "nbformat_minor": 5
}
