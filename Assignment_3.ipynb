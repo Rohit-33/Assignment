{
 "cells": [
  {
   "cell_type": "markdown",
   "id": "d24e6000",
   "metadata": {},
   "source": [
    "1.\n",
    "* Because we can call it as many times as required so that time and space optimization will be there.\n",
    "* Reduce the need for duplicate code.\n"
   ]
  },
  {
   "cell_type": "markdown",
   "id": "c6bc556e",
   "metadata": {},
   "source": [
    "2\n",
    "- When it is called i.e, when it is invoked it will run the function "
   ]
  },
  {
   "cell_type": "markdown",
   "id": "7da7ef57",
   "metadata": {},
   "source": [
    "3\n",
    "\n",
    "- <code>\n",
    "def function_name(paramter1 , parameter2 ,...):\n",
    "    body\n",
    "</code>"
   ]
  },
  {
   "cell_type": "markdown",
   "id": "8ad74543",
   "metadata": {},
   "source": [
    "4\n",
    "- function:- It is a logical piece of code in which we write the code by taking parameters\n",
    "- function call :- In here we called the declared fucntion with the right no of arguments according to function signature"
   ]
  },
  {
   "cell_type": "markdown",
   "id": "51625ce7",
   "metadata": {},
   "source": [
    "5\n",
    "- Only 1 golbal scope will be there in entire program\n",
    "- More than 1 local scope can be there program like in function , loop etc"
   ]
  },
  {
   "cell_type": "markdown",
   "id": "f560b7a7",
   "metadata": {},
   "source": [
    "6\n",
    "- The garbage collector will automatically free the space occupied by the local varibles and destroy the  local variable"
   ]
  },
  {
   "cell_type": "markdown",
   "id": "17e8f533",
   "metadata": {},
   "source": [
    "7\n",
    "- return : It is a value from the function to the calling script or to function when it completes its task.\n",
    "- yes it is possible to have a return value in an expression?."
   ]
  },
  {
   "cell_type": "markdown",
   "id": "8fb4531f",
   "metadata": {},
   "source": [
    "8\n",
    "- None"
   ]
  },
  {
   "cell_type": "markdown",
   "id": "c8e568b8",
   "metadata": {},
   "source": [
    "9\n",
    "- By using global variable"
   ]
  },
  {
   "cell_type": "markdown",
   "id": "52a88fbf",
   "metadata": {},
   "source": [
    "10\n",
    "- NoneType is the datatype of None"
   ]
  },
  {
   "cell_type": "markdown",
   "id": "ef4995a5",
   "metadata": {},
   "source": [
    "11\n",
    "- That import statement imports a module named areallyourpetsnamederic."
   ]
  },
  {
   "cell_type": "markdown",
   "id": "520ab45b",
   "metadata": {},
   "source": [
    "12\n",
    "- by calling <b>spam.bacon()</b>."
   ]
  },
  {
   "cell_type": "markdown",
   "id": "87651787",
   "metadata": {},
   "source": [
    "13\n",
    "- I can use try and except statement to handle these errors."
   ]
  },
  {
   "cell_type": "markdown",
   "id": "e69f4fbe",
   "metadata": {},
   "source": [
    "14\n",
    "- try :- It is used to excute the code which may be vulnerable to raise exception\n",
    "- except :- To handle the excetion during execution it is used to catch the exception and handle it. "
   ]
  }
 ],
 "metadata": {
  "kernelspec": {
   "display_name": "Python 3 (ipykernel)",
   "language": "python",
   "name": "python3"
  },
  "language_info": {
   "codemirror_mode": {
    "name": "ipython",
    "version": 3
   },
   "file_extension": ".py",
   "mimetype": "text/x-python",
   "name": "python",
   "nbconvert_exporter": "python",
   "pygments_lexer": "ipython3",
   "version": "3.8.8"
  }
 },
 "nbformat": 4,
 "nbformat_minor": 5
}
