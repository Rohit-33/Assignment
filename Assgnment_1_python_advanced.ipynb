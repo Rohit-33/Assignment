{
 "cells": [
  {
   "cell_type": "markdown",
   "id": "732955cb",
   "metadata": {},
   "source": [
    "1\n",
    "\n",
    "Purpose of python's OOP are:\n",
    "- reuse of code throuh inheritance\n",
    "- flexibility through polymorphism\n",
    "- encapsulation\n",
    "- data abstraction\n",
    "- class and objects creation "
   ]
  },
  {
   "cell_type": "markdown",
   "id": "344198fd",
   "metadata": {},
   "source": [
    "2\n",
    "\n",
    "An inheritance search looks for an attribute first in the instance object, then in the class the instance was created from, then in all higher superclasses, progressing from left to right (by default)."
   ]
  },
  {
   "cell_type": "markdown",
   "id": "aeff7165",
   "metadata": {},
   "source": [
    "3\n",
    "\n",
    "- class object:- It is the instance of `type` class.\n",
    "- instance object:- When we call a class , we create the instance of the object of the created class ."
   ]
  },
  {
   "cell_type": "markdown",
   "id": "ebe8abc3",
   "metadata": {},
   "source": [
    "4 \n",
    "\n",
    "As there is more than one instance possible for each class for each and in python to decide which method the particular method belongs the first argument is used so that python decided to do methods in a way that makes the instance to which the method belongs be passed automatically and  the first parameter of methods is the instance the method is called on."
   ]
  },
  {
   "cell_type": "markdown",
   "id": "284da0ab",
   "metadata": {},
   "source": [
    "5\n",
    "\n",
    "-  `__init__` : -It is a contructor method in Python and is automatically called to allocate memory when a new object/instance is created and used to initalise attribute of a class."
   ]
  },
  {
   "cell_type": "markdown",
   "id": "b55cd625",
   "metadata": {},
   "source": [
    "6\n",
    "\n",
    "- To create instances of a class, you call the class using class name and pass in whatever arguments its `__init__` method accepts."
   ]
  },
  {
   "cell_type": "markdown",
   "id": "0c25df7d",
   "metadata": {},
   "source": [
    "7\n",
    "\n",
    "Process of creating a class is\n",
    "- create a class with class name\n",
    "- we can pass other class name as argument as it inheritance\n",
    "- inside the class use `__init__` method as constructor and initialise the attributes is there in it\n",
    "- use first method argument as class instance and with that we can give other required argument\n",
    "- call class with `varaible = class_name(*args)`\n"
   ]
  },
  {
   "cell_type": "markdown",
   "id": "11738299",
   "metadata": {},
   "source": [
    "8\n",
    "\n",
    "The class from which a class inherits is called the parent or superclass. A class which inherits from a superclass is called a subclass, also called heir class or child class. Or we can say it is the class from which many subclasses can be created."
   ]
  }
 ],
 "metadata": {
  "kernelspec": {
   "display_name": "Python 3 (ipykernel)",
   "language": "python",
   "name": "python3"
  },
  "language_info": {
   "codemirror_mode": {
    "name": "ipython",
    "version": 3
   },
   "file_extension": ".py",
   "mimetype": "text/x-python",
   "name": "python",
   "nbconvert_exporter": "python",
   "pygments_lexer": "ipython3",
   "version": "3.8.8"
  }
 },
 "nbformat": 4,
 "nbformat_minor": 5
}
